{
 "cells": [
  {
   "cell_type": "code",
   "execution_count": 1,
   "id": "de18d62b-c686-4994-86c1-ff42425d0d04",
   "metadata": {},
   "outputs": [
    {
     "name": "stdin",
     "output_type": "stream",
     "text": [
      "Enter the Number 10\n",
      "Enter the Number 10\n"
     ]
    },
    {
     "name": "stdout",
     "output_type": "stream",
     "text": [
      "The sum of two numbers is : 20\n"
     ]
    }
   ],
   "source": [
    "#Task 1\n",
    "#1 Sum of Two Numbers\n",
    "a=int(input(\"Enter the Number\"))\n",
    "b=int(input(\"Enter the Number\"))\n",
    "c=a+b\n",
    "print(\"The sum of two numbers is :\",c)"
   ]
  },
  {
   "cell_type": "code",
   "execution_count": 6,
   "id": "27897fd6-d823-432c-90c1-f8c12fe3a1a6",
   "metadata": {},
   "outputs": [
    {
     "name": "stdin",
     "output_type": "stream",
     "text": [
      "Enter a Number 22\n"
     ]
    },
    {
     "name": "stdout",
     "output_type": "stream",
     "text": [
      "The number is Even\n"
     ]
    }
   ],
   "source": [
    "#2 Odd or Even\n",
    "a=int(input(\"Enter a Number\"))\n",
    "if a%2==0:\n",
    "    print(\"The number is Even\")\n",
    "else:\n",
    "    print(\"The number is Odd\")"
   ]
  },
  {
   "cell_type": "code",
   "execution_count": 16,
   "id": "3ffd1cc1-6fc4-4bb8-8e94-1d5c3b157fd6",
   "metadata": {},
   "outputs": [
    {
     "name": "stdin",
     "output_type": "stream",
     "text": [
      "Enter the number to calculate the factorial of number 5\n"
     ]
    },
    {
     "name": "stdout",
     "output_type": "stream",
     "text": [
      " The Factorial of 5 is : 120\n"
     ]
    }
   ],
   "source": [
    "#3 Factorial Calculation\n",
    "def factorial(n):\n",
    "    result = 1\n",
    "    for i in range (1,n+1):\n",
    "        result *=i\n",
    "    return result\n",
    "\n",
    "n=int(input(\"Enter the number to calculate the factorial of number\"))\n",
    "print(f\" The Factorial of {n} is :\",factorial(n))"
   ]
  },
  {
   "cell_type": "code",
   "execution_count": 17,
   "id": "aded8216-c74c-4cc4-a576-e1afa357dca9",
   "metadata": {},
   "outputs": [
    {
     "name": "stdout",
     "output_type": "stream",
     "text": [
      "The Fibonacci integers of first 10 is : [0, 1, 1, 2, 3, 5, 8, 13, 21, 34]\n"
     ]
    }
   ],
   "source": [
    "#4 Fibonacci Sequence\n",
    "def fibonacci(n):\n",
    "    sequence=[0,1]\n",
    "    for i in range (2,n):\n",
    "        sequence.append(sequence[-1]+sequence[-2])\n",
    "    return sequence\n",
    "n=10\n",
    "print(f\"The Fibonacci integers of first {n} is :\",fibonacci(n))"
   ]
  },
  {
   "cell_type": "code",
   "execution_count": 19,
   "id": "8dfbde29-7b18-47ae-95eb-4f0fd062c2a5",
   "metadata": {},
   "outputs": [
    {
     "name": "stdout",
     "output_type": "stream",
     "text": [
      "the reverse of hello is olleh\n"
     ]
    }
   ],
   "source": [
    "#5 Reverse a String\n",
    "def reverse_string(s):\n",
    "    return s[::-1]\n",
    "s='hello'\n",
    "print(f\"the reverse of {s} is {reverse_string(s)}\")"
   ]
  },
  {
   "cell_type": "code",
   "execution_count": 21,
   "id": "d3ebc6eb-b2e1-4e12-8013-52c929e2be20",
   "metadata": {},
   "outputs": [
    {
     "name": "stdout",
     "output_type": "stream",
     "text": [
      "The palindrome of hellolleh is True\n"
     ]
    }
   ],
   "source": [
    "#6 Palindrome Check\n",
    "def palindrome(s):\n",
    "    return s==s[::-1]\n",
    "s='hellolleh'\n",
    "print(f\"The palindrome of {s} is {palindrome(s)}\")"
   ]
  },
  {
   "cell_type": "code",
   "execution_count": 25,
   "id": "83e7405e-f6a1-46a5-9627-fef35685dcc5",
   "metadata": {},
   "outputs": [
    {
     "name": "stdin",
     "output_type": "stream",
     "text": [
      "Enter the year 2024\n"
     ]
    },
    {
     "name": "stdout",
     "output_type": "stream",
     "text": [
      "is 2024 Leap year? True\n"
     ]
    }
   ],
   "source": [
    "#7 Leap year check\n",
    "def is_leap_year(year):\n",
    "    return year % 4 == 0 and ( year % 100 !=0 or year % 400 ==0)\n",
    "\n",
    "year==int(input(\"Enter the year\"))\n",
    "print(f\"is {year} Leap year? {is_leap_year(year)}\")"
   ]
  },
  {
   "cell_type": "code",
   "execution_count": 23,
   "id": "1fd22e55-50a1-44f4-b035-702d80133f98",
   "metadata": {},
   "outputs": [
    {
     "name": "stdin",
     "output_type": "stream",
     "text": [
      "Enter the digits 153\n"
     ]
    },
    {
     "name": "stdout",
     "output_type": "stream",
     "text": [
      "The 153 is armstrong? True\n"
     ]
    }
   ],
   "source": [
    "#8 Armstrong Number\n",
    "def is_armstrong(n):\n",
    "    digits=str(n)\n",
    "    return n == sum(int(d)**len(digits) for d in digits)\n",
    "\n",
    "n=int(input(\"Enter the digits\"))\n",
    "print(f\"The {n} is armstrong? {is_armstrong(n)}\")"
   ]
  },
  {
   "cell_type": "code",
   "execution_count": 38,
   "id": "205b66d5-f43b-4f66-8935-f4a044b8d890",
   "metadata": {},
   "outputs": [
    {
     "name": "stdout",
     "output_type": "stream",
     "text": [
      "original Hello World!\n",
      "the encrypted message  Khoor Zruog!\n",
      "the decrypted message  Ebiil Tloia!\n"
     ]
    }
   ],
   "source": [
    "#Custom Encryption-Decryption System\n",
    "def encryption(text,shift):\n",
    "    encrypted_text=\" \"\n",
    "    for char in text:\n",
    "        if char.isalpha():\n",
    "            shift_base=65 if char.isupper() else 97\n",
    "            encrypted_text += chr((ord(char) - shift_base + shift)% 26 + shift_base)\n",
    "        else:\n",
    "            encrypted_text +=char\n",
    "    return encrypted_text\n",
    "\n",
    "def decrypt(encrypted_text,shift):\n",
    "    return encryption(encrypted_text,-shift)\n",
    "\n",
    "message=\"Hello World!\"\n",
    "shift_key=3\n",
    "\n",
    "encrypted_msg=encryption(message,shift_key)\n",
    "decrypted_msg=decrypt(message,shift_key)\n",
    "\n",
    "print(\"original\",message)\n",
    "print(f\"the encrypted message {encrypted_msg}\")\n",
    "print(f\"the decrypted message {decrypted_msg}\")"
   ]
  },
  {
   "cell_type": "code",
   "execution_count": null,
   "id": "da223bba-1586-48e3-a0bb-867f1d11d63e",
   "metadata": {},
   "outputs": [],
   "source": []
  }
 ],
 "metadata": {
  "kernelspec": {
   "display_name": "Python 3 (ipykernel)",
   "language": "python",
   "name": "python3"
  },
  "language_info": {
   "codemirror_mode": {
    "name": "ipython",
    "version": 3
   },
   "file_extension": ".py",
   "mimetype": "text/x-python",
   "name": "python",
   "nbconvert_exporter": "python",
   "pygments_lexer": "ipython3",
   "version": "3.12.4"
  }
 },
 "nbformat": 4,
 "nbformat_minor": 5
}
